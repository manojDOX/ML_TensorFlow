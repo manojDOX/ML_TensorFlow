{
  "nbformat": 4,
  "nbformat_minor": 0,
  "metadata": {
    "colab": {
      "provenance": [],
      "authorship_tag": "ABX9TyNpQTjlk0eCoRnFTAks1Vkc",
      "include_colab_link": true
    },
    "kernelspec": {
      "name": "python3",
      "display_name": "Python 3"
    },
    "language_info": {
      "name": "python"
    }
  },
  "cells": [
    {
      "cell_type": "markdown",
      "metadata": {
        "id": "view-in-github",
        "colab_type": "text"
      },
      "source": [
        "<a href=\"https://colab.research.google.com/github/manojDOX/ML_TensorFlow/blob/main/TFFE_00.ipynb\" target=\"_parent\"><img src=\"https://colab.research.google.com/assets/colab-badge.svg\" alt=\"Open In Colab\"/></a>"
      ]
    },
    {
      "cell_type": "code",
      "source": [
        "import tensorflow as tf\n",
        "import numpy as np"
      ],
      "metadata": {
        "id": "o6j-RRmiwQI8"
      },
      "execution_count": null,
      "outputs": []
    },
    {
      "cell_type": "code",
      "source": [
        "def p_value (n,a):\n",
        "  print(\"printing for- \"+a)\n",
        "  print(\"the value defined was- \"+str(n.numpy()))"
      ],
      "metadata": {
        "id": "qhX0L-wgvZwK"
      },
      "execution_count": null,
      "outputs": []
    },
    {
      "cell_type": "markdown",
      "source": [
        "1. Create a vector, scalar, matrix and tensor with values of your choosing using `tf.constant()`."
      ],
      "metadata": {
        "id": "SMJhimQvuU7e"
      }
    },
    {
      "cell_type": "code",
      "execution_count": null,
      "metadata": {
        "colab": {
          "base_uri": "https://localhost:8080/"
        },
        "id": "YtxL34dzsmnP",
        "outputId": "64002dd2-1937-46f5-d733-58b6a11d47b5"
      },
      "outputs": [
        {
          "output_type": "stream",
          "name": "stdout",
          "text": [
            "printing for- scaler\n",
            "the value defined was- 1\n",
            "printing for- matrix\n",
            "the value defined was- [[1 2]\n",
            " [3 4]]\n",
            "printing for- vector\n",
            "the value defined was- [1 2 3 4]\n",
            "printing for- tensor\n",
            "the value defined was- [[[1 2]\n",
            "  [3 4]]\n",
            "\n",
            " [[5 6]\n",
            "  [7 8]]]\n"
          ]
        }
      ],
      "source": [
        "a='scaler'\n",
        "A=tf.constant(1)\n",
        "p_value(A,a)\n",
        "b='matrix'\n",
        "B=tf.constant([[1,2],[3,4]])\n",
        "p_value(B,b)\n",
        "c='vector'\n",
        "C=tf.constant([1,2,3,4])\n",
        "p_value(C,c)\n",
        "d='tensor'\n",
        "D=tf.constant([[[1,2],[3,4]],[[5,6],[7,8]]])\n",
        "p_value(D,d)"
      ]
    },
    {
      "cell_type": "markdown",
      "source": [
        "2. Find the shape, rank and size of the tensors you created in 1."
      ],
      "metadata": {
        "id": "-7g1Xuk1yOfs"
      }
    },
    {
      "cell_type": "code",
      "source": [
        "sh='shape '\n",
        "ra=' rank '\n",
        "si=' size '\n",
        "print(sh+str(A.shape) + ra + str(A.ndim) + si + str(tf.size(A).numpy()))\n",
        "print(sh+str(B.shape) + ra + str(B.ndim) + si + str(tf.size(B).numpy()))\n",
        "print(sh+str(C.shape) + ra + str(C.ndim) + si + str(tf.size(C).numpy()))\n",
        "print(sh+str(D.shape) + ra + str(D.ndim) + si + str(tf.size(D).numpy()))"
      ],
      "metadata": {
        "colab": {
          "base_uri": "https://localhost:8080/"
        },
        "id": "aDkc8pwoyUUi",
        "outputId": "4b766c34-3696-4a04-bdf4-7d3c57dbb96b"
      },
      "execution_count": null,
      "outputs": [
        {
          "output_type": "stream",
          "name": "stdout",
          "text": [
            "shape () rank 0 size 1\n",
            "shape (2, 2) rank 2 size 4\n",
            "shape (4,) rank 1 size 4\n",
            "shape (2, 2, 2) rank 3 size 8\n"
          ]
        }
      ]
    },
    {
      "cell_type": "markdown",
      "source": [
        "3. Create two tensors containing random values between 0 and 1 with shape [5, 300]."
      ],
      "metadata": {
        "id": "VBFm8wAj3dDc"
      }
    },
    {
      "cell_type": "code",
      "source": [
        "tf.random.set_seed(42)\n",
        "v_a=tf.random.uniform(shape=[5,300],minval=0,maxval=1)\n",
        "v_b=tf.random.uniform(shape=[5,300],minval=0,maxval=1)\n",
        "v_a[0,0],v_b[0,0]"
      ],
      "metadata": {
        "colab": {
          "base_uri": "https://localhost:8080/"
        },
        "id": "9PReSsBJ3ht2",
        "outputId": "c5fde6a6-aed7-49bd-829b-c76b3da6aa33"
      },
      "execution_count": null,
      "outputs": [
        {
          "output_type": "execute_result",
          "data": {
            "text/plain": [
              "(<tf.Tensor: shape=(), dtype=float32, numpy=0.6645621>,\n",
              " <tf.Tensor: shape=(), dtype=float32, numpy=0.68789124>)"
            ]
          },
          "metadata": {},
          "execution_count": 49
        }
      ]
    },
    {
      "cell_type": "markdown",
      "source": [
        "4. Multiply the two tensors you created in 3 using matrix multiplication."
      ],
      "metadata": {
        "id": "xmFOWIo55fc6"
      }
    },
    {
      "cell_type": "code",
      "source": [
        "v_c=tf.matmul(tf.transpose(v_a),v_b)"
      ],
      "metadata": {
        "id": "ghQs5qHn4_PG"
      },
      "execution_count": null,
      "outputs": []
    },
    {
      "cell_type": "markdown",
      "source": [
        "5. Multiply the two tensors you created in 3 using dot product."
      ],
      "metadata": {
        "id": "6M4JcRBI5j9N"
      }
    },
    {
      "cell_type": "code",
      "source": [
        "v_d=v_a*v_b"
      ],
      "metadata": {
        "id": "RZyhXUoL5oka"
      },
      "execution_count": null,
      "outputs": []
    },
    {
      "cell_type": "code",
      "source": [
        "v_c.numpy(),v_d.numpy()"
      ],
      "metadata": {
        "colab": {
          "base_uri": "https://localhost:8080/"
        },
        "id": "N-Ke5VPy5vgB",
        "outputId": "61156a6c-24a5-4eb6-80bf-a2b70ff0e7b9"
      },
      "execution_count": null,
      "outputs": [
        {
          "output_type": "execute_result",
          "data": {
            "text/plain": [
              "(array([[1.317161  , 0.61993605, 1.2612379 , ..., 1.5290778 , 1.0735596 ,\n",
              "         1.6227092 ],\n",
              "        [1.0170685 , 0.42642498, 0.8181824 , ..., 1.1469344 , 0.8212255 ,\n",
              "         1.1739546 ],\n",
              "        [0.45034647, 0.8037954 , 1.4656199 , ..., 1.105671  , 0.88152766,\n",
              "         1.481925  ],\n",
              "        ...,\n",
              "        [1.3204696 , 1.1634867 , 1.7423928 , ..., 1.8386563 , 1.5207756 ,\n",
              "         1.5979093 ],\n",
              "        [0.73207504, 0.90400356, 1.8493464 , ..., 1.3821819 , 0.98218614,\n",
              "         1.924531  ],\n",
              "        [1.0814031 , 0.5316744 , 0.7174167 , ..., 1.2942287 , 1.0804075 ,\n",
              "         1.0476992 ]], dtype=float32),\n",
              " array([[4.57146466e-01, 2.13658452e-01, 3.28531623e-01, ...,\n",
              "         2.17384368e-01, 2.51955122e-01, 3.40777524e-02],\n",
              "        [1.45614594e-01, 3.09705492e-02, 6.57417625e-02, ...,\n",
              "         2.36865208e-01, 9.56212804e-02, 1.13281950e-01],\n",
              "        [7.73395528e-04, 1.34753399e-02, 7.99194753e-01, ...,\n",
              "         1.22185037e-01, 4.81487900e-01, 7.18945917e-03],\n",
              "        [6.55430436e-01, 5.76979630e-02, 9.58052557e-03, ...,\n",
              "         6.53199196e-01, 5.08804396e-02, 7.79080987e-01],\n",
              "        [5.81960231e-02, 1.10622704e-01, 2.62571156e-01, ...,\n",
              "         6.09022558e-01, 1.02241419e-01, 1.14069067e-01]], dtype=float32))"
            ]
          },
          "metadata": {},
          "execution_count": 52
        }
      ]
    },
    {
      "cell_type": "markdown",
      "source": [],
      "metadata": {
        "id": "0FersCLK6_BA"
      }
    },
    {
      "cell_type": "markdown",
      "source": [
        "6. Create a tensor with random values between 0 and 1 with shape [224, 224, 3]."
      ],
      "metadata": {
        "id": "lf7QLEsO7ZTj"
      }
    },
    {
      "cell_type": "code",
      "source": [
        "v_e=tf.random.uniform(shape=[224,224,3],minval=0,maxval=1)"
      ],
      "metadata": {
        "id": "OhhVH2Gk6F4T"
      },
      "execution_count": null,
      "outputs": []
    },
    {
      "cell_type": "markdown",
      "source": [
        "7. Find the min and max values of the tensor you created in 6 along the first axis."
      ],
      "metadata": {
        "id": "Shqui4iOXVma"
      }
    },
    {
      "cell_type": "code",
      "source": [
        "min_values = tf.reduce_min(v_e, axis=0)\n",
        "max_values = tf.reduce_max(v_e, axis=0)"
      ],
      "metadata": {
        "id": "Yrr2Zkru8t2K"
      },
      "execution_count": null,
      "outputs": []
    },
    {
      "cell_type": "code",
      "source": [
        "min_values[0:10],max_values[0:10]"
      ],
      "metadata": {
        "colab": {
          "base_uri": "https://localhost:8080/"
        },
        "id": "oAN16XwB8zFO",
        "outputId": "8fd0e148-9be2-47ad-859b-56a69d06054a"
      },
      "execution_count": null,
      "outputs": [
        {
          "output_type": "execute_result",
          "data": {
            "text/plain": [
              "(<tf.Tensor: shape=(10, 3), dtype=float32, numpy=\n",
              " array([[0.00267446, 0.00214839, 0.00105965],\n",
              "        [0.00547564, 0.00221121, 0.00415409],\n",
              "        [0.00372386, 0.00520217, 0.00090277],\n",
              "        [0.00111604, 0.00635767, 0.00318384],\n",
              "        [0.00210273, 0.00058484, 0.00105011],\n",
              "        [0.00426018, 0.01587307, 0.00121641],\n",
              "        [0.00651884, 0.00117064, 0.00271463],\n",
              "        [0.00567365, 0.00854075, 0.01529098],\n",
              "        [0.00719798, 0.00084388, 0.00191796],\n",
              "        [0.00047123, 0.00639832, 0.00217664]], dtype=float32)>,\n",
              " <tf.Tensor: shape=(10, 3), dtype=float32, numpy=\n",
              " array([[0.99845374, 0.99930906, 0.99262166],\n",
              "        [0.99466574, 0.99434555, 0.9957906 ],\n",
              "        [0.9993377 , 0.9988344 , 0.99788725],\n",
              "        [0.9930023 , 0.99388456, 0.9973532 ],\n",
              "        [0.99890304, 0.99934196, 0.999063  ],\n",
              "        [0.99909663, 0.9912498 , 0.9989666 ],\n",
              "        [0.9984517 , 0.9993125 , 0.9972266 ],\n",
              "        [0.9851161 , 0.9997518 , 0.9938358 ],\n",
              "        [0.99558496, 0.9875896 , 0.99800336],\n",
              "        [0.99865353, 0.9981276 , 0.99659836]], dtype=float32)>)"
            ]
          },
          "metadata": {},
          "execution_count": 57
        }
      ]
    },
    {
      "cell_type": "markdown",
      "source": [
        "8. Created a tensor with random values of shape [1, 224, 224, 3] then squeeze it to change the shape to [224, 224, 3]."
      ],
      "metadata": {
        "id": "vuzE6WsfXbJJ"
      }
    },
    {
      "cell_type": "code",
      "source": [
        "sq_value=tf.random.uniform(shape=[1,224,224,3])\n",
        "sq_value.shape"
      ],
      "metadata": {
        "id": "hoiRFb5H9Qdd",
        "colab": {
          "base_uri": "https://localhost:8080/"
        },
        "outputId": "7ae2e145-1656-4457-8e81-9c24a977164f"
      },
      "execution_count": 58,
      "outputs": [
        {
          "output_type": "execute_result",
          "data": {
            "text/plain": [
              "TensorShape([1, 224, 224, 3])"
            ]
          },
          "metadata": {},
          "execution_count": 58
        }
      ]
    },
    {
      "cell_type": "code",
      "source": [
        "tf.squeeze(sq_value).shape"
      ],
      "metadata": {
        "colab": {
          "base_uri": "https://localhost:8080/"
        },
        "id": "-47iqNmwX1Nw",
        "outputId": "063518b4-5664-4b11-f958-97ba4e44d450"
      },
      "execution_count": 59,
      "outputs": [
        {
          "output_type": "execute_result",
          "data": {
            "text/plain": [
              "TensorShape([224, 224, 3])"
            ]
          },
          "metadata": {},
          "execution_count": 59
        }
      ]
    },
    {
      "cell_type": "markdown",
      "source": [
        "9. Create a tensor with shape [10] using your own choice of values, then find the index which has the maximum value."
      ],
      "metadata": {
        "id": "dVNHKoZVX8uk"
      }
    },
    {
      "cell_type": "code",
      "source": [
        "o_h_value=tf.random.uniform(shape=[10],minval=0,maxval=10,dtype=tf.int32)\n",
        "o_h_value"
      ],
      "metadata": {
        "colab": {
          "base_uri": "https://localhost:8080/"
        },
        "id": "DWChwrX7X6v5",
        "outputId": "626991c5-7876-480d-8dce-4a8764077317"
      },
      "execution_count": 66,
      "outputs": [
        {
          "output_type": "execute_result",
          "data": {
            "text/plain": [
              "<tf.Tensor: shape=(10,), dtype=int32, numpy=array([6, 7, 4, 8, 0, 2, 2, 5, 8, 5], dtype=int32)>"
            ]
          },
          "metadata": {},
          "execution_count": 66
        }
      ]
    },
    {
      "cell_type": "markdown",
      "source": [
        "10. One-hot encode the tensor you created in 9."
      ],
      "metadata": {
        "id": "Zt3RLFVsbFn7"
      }
    },
    {
      "cell_type": "code",
      "source": [
        "tf.one_hot(o_h_value,depth=10).numpy()"
      ],
      "metadata": {
        "colab": {
          "base_uri": "https://localhost:8080/"
        },
        "id": "xUV4PIK1ZSxk",
        "outputId": "776260cd-f726-4ee2-99a2-badf74cc7792"
      },
      "execution_count": 72,
      "outputs": [
        {
          "output_type": "execute_result",
          "data": {
            "text/plain": [
              "array([[0., 0., 0., 0., 0., 0., 1., 0., 0., 0.],\n",
              "       [0., 0., 0., 0., 0., 0., 0., 1., 0., 0.],\n",
              "       [0., 0., 0., 0., 1., 0., 0., 0., 0., 0.],\n",
              "       [0., 0., 0., 0., 0., 0., 0., 0., 1., 0.],\n",
              "       [1., 0., 0., 0., 0., 0., 0., 0., 0., 0.],\n",
              "       [0., 0., 1., 0., 0., 0., 0., 0., 0., 0.],\n",
              "       [0., 0., 1., 0., 0., 0., 0., 0., 0., 0.],\n",
              "       [0., 0., 0., 0., 0., 1., 0., 0., 0., 0.],\n",
              "       [0., 0., 0., 0., 0., 0., 0., 0., 1., 0.],\n",
              "       [0., 0., 0., 0., 0., 1., 0., 0., 0., 0.]], dtype=float32)"
            ]
          },
          "metadata": {},
          "execution_count": 72
        }
      ]
    }
  ]
}